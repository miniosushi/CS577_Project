{
 "cells": [
  {
   "cell_type": "code",
   "execution_count": null,
   "metadata": {},
   "outputs": [],
   "source": [
    "def filter(dataframe, season):\n",
    "    data = dataframe[data['Time Period'].str.contains(season, na=False)]\n",
    "    data = data.drop(columns=[\"Message\"])\n",
    "    data['Time Period'] = data['Time Period'].str.extract(r'(\\d{4})')\n",
    "    data['Time Period'] = data['Time Period'].astype(int)"
   ]
  },
  {
   "cell_type": "code",
   "execution_count": null,
   "metadata": {},
   "outputs": [],
   "source": []
  }
 ],
 "metadata": {
  "language_info": {
   "name": "python"
  },
  "orig_nbformat": 4
 },
 "nbformat": 4,
 "nbformat_minor": 2
}
